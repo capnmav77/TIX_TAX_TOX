{
 "cells": [
  {
   "cell_type": "markdown",
   "metadata": {},
   "source": [
    "### Ideation \n",
    "    - Classes\n",
    "        - MCTS \n",
    "            - Tree\n",
    "                - Node\n",
    "            - ParseTree\n",
    "            - DecideNextMove\n",
    "            - GetPossibleMoves()\n",
    "\n",
    "\n",
    "        - GameEngine\n",
    "            - GameState\n",
    "                - BoardState\n",
    "                - PossibleMoves\n",
    "                - UpdateState()\n",
    "                - GenerateNextPossibleMoves()\n",
    "                - Serializer()\n",
    "                - Deserializer()\n",
    "                - DisplayBoard()\n",
    "            - SaveManager\n",
    "                - SaveState()\n",
    "                - LoadState()\n",
    "            - PlayerState\n",
    "                - Player[]\n",
    "                    - PlayerType\n",
    "                    - PlayerScore\n",
    "                - PlayerMove\n",
    "                - PlayerMoveHistory\n",
    "            - UIManager\n",
    "                - DisplayGame()\n",
    "                - DisplayMenu()\n",
    "                - DisplayGameOver()\n",
    "            - GameControler\n",
    "                - StartGame()\n",
    "                - EndGame()\n",
    "                - PauseGame()\n",
    "                - ResumeGame()\n",
    "                - RestartGame()\n",
    "                - SaveGame()\n",
    "                - LoadGame()\n",
    "                - ExitGame()\n",
    "            - GameInit()\n",
    "            - GameLoop()\n",
    "            \n",
    "        <!-- - Node  -->\n",
    "        <!-- - UCT - formula : UCT = Q + C * sqrt(2 * log(N) / n) -->"
   ]
  }
 ],
 "metadata": {
  "language_info": {
   "name": "python"
  }
 },
 "nbformat": 4,
 "nbformat_minor": 2
}
